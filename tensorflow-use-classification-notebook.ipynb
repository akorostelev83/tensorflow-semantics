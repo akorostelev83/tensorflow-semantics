{
 "cells": [
  {
   "cell_type": "markdown",
   "id": "c87e740b",
   "metadata": {},
   "source": [
    "# Setup TensorFlow U.S.E. model and download Kaggle W2 data"
   ]
  },
  {
   "cell_type": "code",
   "execution_count": 8,
   "id": "03baa299",
   "metadata": {},
   "outputs": [],
   "source": [
    "import os\n",
    "import pandas as pd\n",
    "import tensorflow_hub as hub\n",
    "from tensorflow_text import SentencepieceTokenizer\n",
    "from sklearn.cluster import KMeans\n",
    "from sklearn.ensemble import RandomForestClassifier\n",
    "from sklearn.model_selection import train_test_split\n",
    "from sklearn.utils import shuffle\n",
    "from sklearn.metrics import confusion_matrix\n",
    "from sklearn.metrics import f1_score\n",
    "from sklearn.metrics import classification_report\n",
    "\n",
    "kaggle_w2_folder = 'enter-path-here'\n",
    "use_model_url = 'https://tfhub.dev/google/universal-sentence-encoder-multilingual/3'"
   ]
  },
  {
   "cell_type": "code",
   "execution_count": 16,
   "id": "539d18c0",
   "metadata": {},
   "outputs": [
    {
     "name": "stdout",
     "output_type": "stream",
     "text": [
      "downloading kaggle dataset as zip\n",
      "extracting data from zipped file\n",
      "extracting text from pdfs\n",
      "saving csv to disk, to skip re-running the downloading/unzipping/extracting of PDFs to text everytime the code runs\n",
      "skip this cell after running it once\n"
     ]
    }
   ],
   "source": [
    "def download_kaggle_dataset():\n",
    "    os.environ['KAGGLE_USERNAME'] = 'username-here'\n",
    "    os.environ['KAGGLE_KEY'] = 'insert-key-here'\n",
    "\n",
    "    from kaggle.api.kaggle_api_extended import KaggleApi\n",
    "\n",
    "    dataset = 'mcvishnu1/fake-w2-us-tax-form-dataset'\n",
    "    path = 'datasets/fake_w2'\n",
    "\n",
    "    api = KaggleApi()\n",
    "    api.authenticate()\n",
    "\n",
    "    api.dataset_download_file(dataset, 'W2_Multi_Clean_DataSet_02.ZIP', path)\n",
    "\n",
    "def extract_kaggle_dataset():\n",
    "    from zipfile import ZipFile\n",
    "    file_name = \"C:/datasets/fake_w2/W2_Multi_Clean_DataSet_02.ZIP\"\n",
    "    os.chdir('enter-path-here')\n",
    "\n",
    "    with ZipFile(file_name, 'r') as zip:\t\n",
    "        zip.printdir()\t\n",
    "        print('Extracting all the files now...')\n",
    "        zip.extractall()\n",
    "        print('Done!')\n",
    "\n",
    "def get_text(path):\n",
    "    from PyPDF2 import PdfReader\n",
    "    reader = PdfReader(path)\n",
    "    page = reader.pages[0]\n",
    "    return page.extract_text()\n",
    "\n",
    "def get_pdf_files():\n",
    "    return os.listdir(kaggle_w2_folder) \n",
    "\n",
    "def extract_save_text_from_pdfs():\n",
    "    pdfs_as_text_list = [get_text(kaggle_w2_folder+pdf_path) for pdf_path in get_pdf_files() if pdf_path.endswith(\".pdf\")]\n",
    "\n",
    "    df = pd.DataFrame(\n",
    "        pdfs_as_text_list,\n",
    "        columns=['pdf_as_raw_text'])\n",
    "    \n",
    "    df.to_csv(\n",
    "        'enter-path-here',\n",
    "        index=False)\n",
    "\n",
    "    return df\n",
    "\n",
    "print('downloading kaggle dataset as zip')\n",
    "download_kaggle_dataset()\n",
    "\n",
    "print('extracting data from zipped file')\n",
    "extract_kaggle_dataset()\n",
    "\n",
    "print('extracting text from pdfs')\n",
    "extract_save_text_from_pdfs()\n",
    "\n",
    "print('saving csv to disk, to skip re-running the downloading/unzipping/extracting of PDFs to text everytime the code runs')\n",
    "\n",
    "print('skip this cell after running it once')"
   ]
  },
  {
   "cell_type": "markdown",
   "id": "f7c23d83",
   "metadata": {},
   "source": [
    "# TensorFlow Semantics using Universal Sentence Encoder & Semantics EDA"
   ]
  },
  {
   "cell_type": "code",
   "execution_count": 10,
   "id": "850f8c1b",
   "metadata": {},
   "outputs": [
    {
     "name": "stdout",
     "output_type": "stream",
     "text": [
      "reading csv\n",
      "getting semantics\n"
     ]
    },
    
    {
     "name": "stdout",
     "output_type": "stream",
     "text": [
      "Report report.html was generated.\n"
     ]
    }
   ],
   "source": [
    "import sweetviz as sv\n",
    "import pandas as pd\n",
    "\n",
    "def get_semantics(text_list):\n",
    "    use_model = hub.load(use_model_url)\n",
    "    return use_model(text_list)\n",
    "\n",
    "print('reading csv')\n",
    "text_list = pd.read_csv('C:/Users/SUPREME/Documents/SurePrep/pdfs_as_raw_text.csv')\n",
    "\n",
    "print('getting semantics')\n",
    "semantics = get_semantics(text_list)\n",
    "semantic_features = pd.DataFrame(semantics).astype(float)\n",
    "analyze_report = sv.analyze(semantic_features,pairwise_analysis='on')\n",
    "analyze_report.show_html('report.html', open_browser=False)"
   ]
  },
  {
   "cell_type": "markdown",
   "id": "1f85ffe6",
   "metadata": {},
   "source": [
    "# Semantics Classification Model"
   ]
  },
  {
   "cell_type": "markdown",
   "id": "789600dd",
   "metadata": {},
   "source": [
    "# Methods"
   ]
  },
  {
   "cell_type": "code",
   "execution_count": 11,
   "id": "13d096b7",
   "metadata": {},
   "outputs": [],
   "source": [
    "def get_semantics(text_list):\n",
    "    use_model = hub.load(use_model_url)\n",
    "    return use_model(text_list)\n",
    "    \n",
    "def get_cluster_ids(semantics):\n",
    "    kmeans = KMeans(n_clusters=4)\n",
    "    kmeans.fit(semantics)\n",
    "    return kmeans.labels_\n",
    "\n",
    "def merge(cluster_ids,list):    \n",
    "    assert len(cluster_ids) == len(list)\n",
    "    return [(text,id) for id,text in zip(cluster_ids,list.values)]\n",
    "\n",
    "def save(clustered_semantics):\n",
    "    pd.DataFrame(\n",
    "        clustered_semantics,\n",
    "        columns=['text','cluster_id'])\\\n",
    "            .to_csv(\n",
    "                'C:/Users/SUPREME/Documents/SurePrep/clustered_semantics.csv',\n",
    "                index=False)\n",
    "\n",
    "def shuffle_get_features_labels(semantic_features_with_cluster_ids):\n",
    "    df = pd.DataFrame(\n",
    "        semantic_features_with_cluster_ids,\n",
    "        columns=['semantic_features','cluster_id'])\n",
    "    df_shuffled = shuffle(df)\n",
    "    return [list(x) for x in df_shuffled.semantic_features.values], df_shuffled.cluster_id.values\n",
    "\n",
    "def merge_semantic_features_with_cluster_ids(semantic_features,cluster_ids):\n",
    "    assert len(semantic_features) == len(cluster_ids)\n",
    "    return [(X,y) for X,y in zip(semantic_features.values,cluster_ids)]\n",
    "\n",
    "def print_model_results(y_test,y_predictions):\n",
    "    print('confusion matrix')\n",
    "    print(confusion_matrix(y_test, y_predictions))\n",
    "    print('f1-score')\n",
    "    print(f1_score(y_test, y_predictions, average='micro'))\n",
    "    print(\"Classification Report :\")\n",
    "    print(classification_report(\n",
    "        y_test, \n",
    "        y_predictions, \n",
    "        target_names=['adp1','adp2','irs1','irs2']))"
   ]
  },
  {
   "cell_type": "markdown",
   "id": "58de724f",
   "metadata": {},
   "source": [
    "# Model Training/Predictions"
   ]
  },
  {
   "cell_type": "code",
   "execution_count": 12,
   "id": "7b6cf8d6",
   "metadata": {},
   "outputs": [
    {
     "name": "stdout",
     "output_type": "stream",
     "text": [
      "reading csv\n",
      "getting semantics\n",
      "clustering semantics\n",
      "saving text with cluster Ids\n",
      "shuffling df\n",
      "splitting data for train & test\n"
     ]
    }
   ],
   "source": [
    "print('reading csv')\n",
    "text_list = pd.read_csv('C:/Users/SUPREME/Documents/SurePrep/pdfs_as_raw_text.csv')\n",
    "\n",
    "print('getting semantics')\n",
    "semantics = get_semantics(text_list)\n",
    "semantic_features = pd.DataFrame(semantics).astype(float)\n",
    "\n",
    "print('clustering semantics')\n",
    "cluster_ids = get_cluster_ids(semantics)\n",
    "semantic_features_with_cluster_ids = merge_semantic_features_with_cluster_ids(\n",
    "    semantic_features,\n",
    "    cluster_ids)\n",
    "\n",
    "print('saving text with cluster Ids')\n",
    "text_with_cluster_ids = merge(cluster_ids,text_list)\n",
    "save(text_with_cluster_ids)\n",
    "\n",
    "print('shuffling df')\n",
    "X,y = shuffle_get_features_labels(semantic_features_with_cluster_ids)\n",
    "\n",
    "print('splitting data for train & test')\n",
    "X_train, X_test, y_train, y_test = train_test_split(\n",
    "    X, \n",
    "    y, \n",
    "    test_size=0.2, \n",
    "    random_state=1)\n",
    "\n",
    "classifier = RandomForestClassifier(\n",
    "    max_depth=5, \n",
    "    random_state=1)\n",
    "\n",
    "classifier.fit(X_train,y_train)\n",
    "\n",
    "y_predictions = classifier.predict(X_test)"
   ]
  },
  {
   "cell_type": "markdown",
   "id": "96183e85",
   "metadata": {},
   "source": [
    "# Classification Model Results"
   ]
  },
  {
   "cell_type": "code",
   "execution_count": 15,
   "id": "cb5246b9",
   "metadata": {},
   "outputs": [
    {
     "name": "stdout",
     "output_type": "stream",
     "text": [
      "confusion matrix\n",
      "[[52  0  0  0]\n",
      " [ 0 49  0  0]\n",
      " [ 0  0 52  0]\n",
      " [ 0  0  0 47]]\n",
      "f1-score\n",
      "1.0\n",
      "Classification Report :\n",
      "              precision    recall  f1-score   support\n",
      "\n",
      "        adp1       1.00      1.00      1.00        52\n",
      "        adp2       1.00      1.00      1.00        49\n",
      "        irs1       1.00      1.00      1.00        52\n",
      "        irs2       1.00      1.00      1.00        47\n",
      "\n",
      "    accuracy                           1.00       200\n",
      "   macro avg       1.00      1.00      1.00       200\n",
      "weighted avg       1.00      1.00      1.00       200\n",
      "\n"
     ]
    }
   ],
   "source": [
    "print_model_results(y_test,y_predictions)"
   ]
  }
 ],
 "metadata": {
  "kernelspec": {
   "display_name": "Python 3.8.15 ('sureprep': conda)",
   "language": "python",
   "name": "python3"
  },
  "language_info": {
   "codemirror_mode": {
    "name": "ipython",
    "version": 3
   },
   "file_extension": ".py",
   "mimetype": "text/x-python",
   "name": "python",
   "nbconvert_exporter": "python",
   "pygments_lexer": "ipython3",
   "version": "3.8.15"
  },
  "vscode": {
   "interpreter": {
    "hash": "2e4a2899b772ca907ac00d33a278a658390cb184ce84c47eaf8197db8f2e9992"
   }
  }
 },
 "nbformat": 4,
 "nbformat_minor": 5
}
